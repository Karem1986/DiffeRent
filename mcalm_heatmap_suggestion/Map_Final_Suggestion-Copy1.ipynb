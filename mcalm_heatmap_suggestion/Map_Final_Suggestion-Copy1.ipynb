{
 "cells": [
  {
   "cell_type": "code",
   "execution_count": null,
   "metadata": {},
   "outputs": [],
   "source": [
    "import pandas as pd\n",
    "import numpy as np\n",
    "import folium\n",
    "from folium import plugins\n",
    "import json"
   ]
  },
  {
   "cell_type": "markdown",
   "metadata": {},
   "source": [
    "## 1: Create Choropleth for Price/Sqm"
   ]
  },
  {
   "cell_type": "markdown",
   "metadata": {},
   "source": [
    "1.1: read the csv of our rental prices and put it into a dataframe"
   ]
  },
  {
   "cell_type": "code",
   "execution_count": null,
   "metadata": {},
   "outputs": [],
   "source": [
    "rentals = pd.read_csv('pararius_scraped.csv')\n",
    "df = pd.DataFrame(rentals, columns = ['Address', 'Postcode', 'Size in m²', 'Rooms', 'Prize in €', 'Price/Sqm', 'Latitude', 'Longitude'])"
   ]
  },
  {
   "cell_type": "markdown",
   "metadata": {},
   "source": [
    "1.2: To create a Choropleth, a geojson file will be used that assigns locations to postcodes. The latitude/longitude values from the dataset cannot be used directly. In this case, the postcodes are just the numbers. Therefore, we split the postcode column of our dataframe and create a new column that contains just the numbers."
   ]
  },
  {
   "cell_type": "code",
   "execution_count": null,
   "metadata": {},
   "outputs": [],
   "source": [
    "postcodes = pd.DataFrame()\n",
    "postcodes[['Number', 'Letter']] = df.Postcode.str.split(expand=True)\n",
    "df['Postcode_nr'] = postcodes['Number']\n",
    "df.head()"
   ]
  },
  {
   "cell_type": "markdown",
   "metadata": {},
   "source": [
    "1.3: Creating a choropleth: First, an empty map 'm' is created. Then the choropleth is added to it. The openpostcodevlakkenpc4.geojson file is the basis for assigning locations (areas) to the postcodes. "
   ]
  },
  {
   "cell_type": "code",
   "execution_count": null,
   "metadata": {},
   "outputs": [],
   "source": [
    "m = folium.Map(location=[52.370216, 4.895168], tiles='CartoDB Positron', zoom_start=12, control_scale=True)\n",
    "\n",
    "folium.Choropleth(\n",
    "    geo_data='openpostcodevlakkenpc4.geojson',\n",
    "    name=\"Rental Price\",\n",
    "    data=df,\n",
    "    columns=[\"Postcode_nr\", \"Price/Sqm\"],\n",
    "    key_on=\"properties.pc4\",\n",
    "    fill_color=\"YlOrRd\",\n",
    "    fill_opacity=0.7,\n",
    "    nan_fill_opacity=0,\n",
    "    line_opacity=0.2,\n",
    "    legend_name=\"Rental Price per m²\",\n",
    ").add_to(m)\n"
   ]
  },
  {
   "cell_type": "markdown",
   "metadata": {},
   "source": [
    "1.4: Add a minimap in the lower right corner and a \"Fullscreen\" option to the map."
   ]
  },
  {
   "cell_type": "code",
   "execution_count": null,
   "metadata": {},
   "outputs": [],
   "source": [
    "minimap = plugins.MiniMap(toggle_display=True)\n",
    "m.add_child(minimap)\n",
    "plugins.Fullscreen(position='topright').add_to(m)"
   ]
  },
  {
   "cell_type": "markdown",
   "metadata": {},
   "source": [
    "## 2: Add another layer that shows tram/metro stations with markers"
   ]
  },
  {
   "cell_type": "markdown",
   "metadata": {},
   "source": [
    "2.1: Create a dataframe from a csv containing the stations and latitude/longitude data of each station"
   ]
  },
  {
   "cell_type": "code",
   "execution_count": null,
   "metadata": {},
   "outputs": [],
   "source": [
    "tram = pd.read_csv('Tram_metro_stops.csv')\n",
    "tram_df = pd.DataFrame(tram)\n",
    "tram_df.rename(columns={'Unnamed: 0': 'Station Tram/Metro'}, inplace=True)\n",
    "tram_df.head()"
   ]
  },
  {
   "cell_type": "markdown",
   "metadata": {},
   "source": [
    "2.2: Create a FeatureGroup 'a' which can be optionally overlayed on the basis map. For every station add a marker to 'a'. Finally, add 'a' to our basis map 'm'"
   ]
  },
  {
   "cell_type": "code",
   "execution_count": null,
   "metadata": {},
   "outputs": [],
   "source": [
    "from folium.plugins import MarkerCluster\n",
    "\n",
    "a = folium.FeatureGroup(name='Stations', overlay=True, show=False)\n",
    "\n",
    "for i in range(0,len(tram_df)):\n",
    "   folium.Marker(\n",
    "      location=[tram_df.iloc[i]['lat'], tram_df.iloc[i]['lon']],\n",
    "      popup=tram_df.iloc[i]['Station Tram/Metro'],\n",
    "      icon=folium.Icon(color='red', icon_color=\"white\", icon='subway', prefix='fa')\n",
    "   ).add_to(a)\n",
    "\n",
    "m.add_child(a)\n"
   ]
  },
  {
   "cell_type": "markdown",
   "metadata": {},
   "source": [
    "## 3: Add another layer that shows break ins as a heatmap"
   ]
  },
  {
   "cell_type": "markdown",
   "metadata": {},
   "source": [
    "3.1: Create a dataframe from csv containing the break ins and longitude/latitude data for each break in"
   ]
  },
  {
   "cell_type": "code",
   "execution_count": null,
   "metadata": {},
   "outputs": [],
   "source": [
    "breaks = pd.read_csv('AMS_break_ins_per_postal_code.csv')\n",
    "break_ins = pd.DataFrame(breaks)\n",
    "break_ins.head()"
   ]
  },
  {
   "cell_type": "markdown",
   "metadata": {},
   "source": [
    "3.2: Create a list 'l' of all latitude/longitude pairs"
   ]
  },
  {
   "cell_type": "code",
   "execution_count": null,
   "metadata": {},
   "outputs": [],
   "source": [
    "l = list()\n",
    "for i in range(0,len(break_ins)):\n",
    "    x = (break_ins.iloc[i]['Latitude'],break_ins.iloc[i]['Longitude'])\n",
    "    l.append(x)"
   ]
  },
  {
   "cell_type": "markdown",
   "metadata": {},
   "source": [
    "3.3: Create a heatmap from all items in list 'l' and add to base map 'm'. Add a Layer control to 'm' so we can choose whether the Stations & Break Ins layers are shown via a menu that is displayed on the map. Show 'm'. "
   ]
  },
  {
   "cell_type": "code",
   "execution_count": null,
   "metadata": {},
   "outputs": [],
   "source": [
    "from folium.plugins import HeatMap"
   ]
  },
  {
   "cell_type": "code",
   "execution_count": null,
   "metadata": {},
   "outputs": [],
   "source": [
    "HeatMap(l, name = 'Break Ins', overlay=True, show=False).add_to(m)\n",
    "folium.LayerControl().add_to(m)\n",
    "m"
   ]
  },
  {
   "cell_type": "code",
   "execution_count": null,
   "metadata": {},
   "outputs": [],
   "source": [
    "#m.save('/Users/...path.html')"
   ]
  },
  {
   "cell_type": "code",
   "execution_count": null,
   "metadata": {},
   "outputs": [],
   "source": []
  }
 ],
 "metadata": {
  "kernelspec": {
   "display_name": "Python 3",
   "language": "python",
   "name": "python3"
  },
  "language_info": {
   "codemirror_mode": {
    "name": "ipython",
    "version": 3
   },
   "file_extension": ".py",
   "mimetype": "text/x-python",
   "name": "python",
   "nbconvert_exporter": "python",
   "pygments_lexer": "ipython3",
   "version": "3.8.8"
  }
 },
 "nbformat": 4,
 "nbformat_minor": 4
}
