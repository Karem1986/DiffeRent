{
 "cells": [
  {
   "cell_type": "code",
   "execution_count": 6,
   "id": "9d623a78",
   "metadata": {},
   "outputs": [
    {
     "data": {
      "text/plain": [
       "(2121, 8)"
      ]
     },
     "execution_count": 6,
     "metadata": {},
     "output_type": "execute_result"
    }
   ],
   "source": [
    "import matplotlib.pyplot as plt\n",
    "import pandas as pd\n",
    "import numpy as np\n",
    "\n",
    "helix = pd.read_csv('pararius_scraped.csv')\n",
    "#shape of the dataframe\n",
    "helix = pd.read_csv('pararius_scraped.csv', index_col=0)\n",
    "helix.shape\n"
   ]
  },
  {
   "cell_type": "code",
   "execution_count": 7,
   "id": "a2943647",
   "metadata": {
    "scrolled": true
   },
   "outputs": [
    {
     "data": {
      "text/plain": [
       "Index(['Address', 'Postcode', 'Size in m²', 'Rooms', 'Prize in €', 'Price/Sqm',\n",
       "       'Latitude', 'Longitude'],\n",
       "      dtype='object')"
      ]
     },
     "execution_count": 7,
     "metadata": {},
     "output_type": "execute_result"
    }
   ],
   "source": [
    "helix.columns"
   ]
  },
  {
   "cell_type": "markdown",
   "id": "83e0c770",
   "metadata": {},
   "source": [
    "# Selecting Columns: "
   ]
  },
  {
   "cell_type": "code",
   "execution_count": 9,
   "id": "3aaf1ae4",
   "metadata": {},
   "outputs": [
    {
     "data": {
      "text/html": [
       "<div>\n",
       "<style scoped>\n",
       "    .dataframe tbody tr th:only-of-type {\n",
       "        vertical-align: middle;\n",
       "    }\n",
       "\n",
       "    .dataframe tbody tr th {\n",
       "        vertical-align: top;\n",
       "    }\n",
       "\n",
       "    .dataframe thead th {\n",
       "        text-align: right;\n",
       "    }\n",
       "</style>\n",
       "<table border=\"1\" class=\"dataframe\">\n",
       "  <thead>\n",
       "    <tr style=\"text-align: right;\">\n",
       "      <th></th>\n",
       "      <th>Prize in €</th>\n",
       "      <th>Price/Sqm</th>\n",
       "      <th>Postcode</th>\n",
       "    </tr>\n",
       "  </thead>\n",
       "  <tbody>\n",
       "    <tr>\n",
       "      <th>1</th>\n",
       "      <td>2500.0</td>\n",
       "      <td>40.322581</td>\n",
       "      <td>1013 HE</td>\n",
       "    </tr>\n",
       "    <tr>\n",
       "      <th>2</th>\n",
       "      <td>3000.0</td>\n",
       "      <td>31.914894</td>\n",
       "      <td>1064 SX</td>\n",
       "    </tr>\n",
       "    <tr>\n",
       "      <th>3</th>\n",
       "      <td>2000.0</td>\n",
       "      <td>40.000000</td>\n",
       "      <td>1051 GS</td>\n",
       "    </tr>\n",
       "    <tr>\n",
       "      <th>4</th>\n",
       "      <td>4000.0</td>\n",
       "      <td>66.666667</td>\n",
       "      <td>1058 AG</td>\n",
       "    </tr>\n",
       "    <tr>\n",
       "      <th>6</th>\n",
       "      <td>2500.0</td>\n",
       "      <td>16.666667</td>\n",
       "      <td>1086 ZA</td>\n",
       "    </tr>\n",
       "  </tbody>\n",
       "</table>\n",
       "</div>"
      ],
      "text/plain": [
       "   Prize in €  Price/Sqm   Postcode\n",
       "1      2500.0  40.322581   1013 HE \n",
       "2      3000.0  31.914894   1064 SX \n",
       "3      2000.0  40.000000   1051 GS \n",
       "4      4000.0  66.666667   1058 AG \n",
       "6      2500.0  16.666667   1086 ZA "
      ]
     },
     "execution_count": 9,
     "metadata": {},
     "output_type": "execute_result"
    }
   ],
   "source": [
    "#selecting a couple of columns:\n",
    "selected_columns = helix[['Prize in €','Price/Sqm', 'Postcode']]\n",
    "selected_columns.head()"
   ]
  },
  {
   "cell_type": "markdown",
   "id": "d39bd92e",
   "metadata": {},
   "source": [
    "# HEATMAP USING MATPLOTLIB"
   ]
  },
  {
   "cell_type": "code",
   "execution_count": 24,
   "id": "d8d65d40",
   "metadata": {},
   "outputs": [
    {
     "data": {
      "text/html": [
       "<div>\n",
       "<style scoped>\n",
       "    .dataframe tbody tr th:only-of-type {\n",
       "        vertical-align: middle;\n",
       "    }\n",
       "\n",
       "    .dataframe tbody tr th {\n",
       "        vertical-align: top;\n",
       "    }\n",
       "\n",
       "    .dataframe thead th {\n",
       "        text-align: right;\n",
       "    }\n",
       "</style>\n",
       "<table border=\"1\" class=\"dataframe\">\n",
       "  <thead>\n",
       "    <tr style=\"text-align: right;\">\n",
       "      <th></th>\n",
       "      <th>Prize in €</th>\n",
       "    </tr>\n",
       "    <tr>\n",
       "      <th>Price/Sqm</th>\n",
       "      <th></th>\n",
       "    </tr>\n",
       "  </thead>\n",
       "  <tbody>\n",
       "    <tr>\n",
       "      <th>1.020408</th>\n",
       "      <td>200.0</td>\n",
       "    </tr>\n",
       "    <tr>\n",
       "      <th>10.416667</th>\n",
       "      <td>2500.0</td>\n",
       "    </tr>\n",
       "    <tr>\n",
       "      <th>11.904762</th>\n",
       "      <td>1000.0</td>\n",
       "    </tr>\n",
       "    <tr>\n",
       "      <th>12.755102</th>\n",
       "      <td>2500.0</td>\n",
       "    </tr>\n",
       "    <tr>\n",
       "      <th>14.285714</th>\n",
       "      <td>1450.0</td>\n",
       "    </tr>\n",
       "    <tr>\n",
       "      <th>14.772727</th>\n",
       "      <td>1300.0</td>\n",
       "    </tr>\n",
       "    <tr>\n",
       "      <th>16.000000</th>\n",
       "      <td>2000.0</td>\n",
       "    </tr>\n",
       "    <tr>\n",
       "      <th>16.666667</th>\n",
       "      <td>2200.0</td>\n",
       "    </tr>\n",
       "    <tr>\n",
       "      <th>16.803279</th>\n",
       "      <td>2050.0</td>\n",
       "    </tr>\n",
       "    <tr>\n",
       "      <th>16.806723</th>\n",
       "      <td>2000.0</td>\n",
       "    </tr>\n",
       "  </tbody>\n",
       "</table>\n",
       "</div>"
      ],
      "text/plain": [
       "           Prize in €\n",
       "Price/Sqm            \n",
       "1.020408        200.0\n",
       "10.416667      2500.0\n",
       "11.904762      1000.0\n",
       "12.755102      2500.0\n",
       "14.285714      1450.0\n",
       "14.772727      1300.0\n",
       "16.000000      2000.0\n",
       "16.666667      2200.0\n",
       "16.803279      2050.0\n",
       "16.806723      2000.0"
      ]
     },
     "execution_count": 24,
     "metadata": {},
     "output_type": "execute_result"
    }
   ],
   "source": [
    "# this is essentially would be taking the average of each unique combination. \n",
    "# one important mention is notice how little the data varies from eachother.\n",
    "findingAvg = selected_columns.groupby(['Price/Sqm']).mean()\n",
    "\n",
    "findingAvg.head(10)"
   ]
  },
  {
   "cell_type": "code",
   "execution_count": 37,
   "id": "2b9e689d",
   "metadata": {},
   "outputs": [
    {
     "data": {
      "image/png": "[encoded data removed]",
      "text/plain": [
       "<Figure size 432x360 with 2 Axes>"
      ]
     },
     "metadata": {
      "needs_background": "light"
     },
     "output_type": "display_data"
    }
   ],
   "source": [
    "\n",
    "major_ticks = np.arange(0, 200, 20)                                              \n",
    "minor_ticks = np.arange(0, 180, 5)  \n",
    "\n",
    "fig = plt.figure(figsize = (6,5))  \n",
    "ax = fig.add_subplot(1,1,1) \n",
    "\n",
    "\n",
    "s = ax.scatter('Price/Sqm', 'Postcode', c = 'green',data = findingAvg, cmap = 'Blues_r', marker = 's',s = 190)\n",
    "# ax.axis([findingAvg['Price/Sqm'].min()-10, findingAvg['Postcode'].max()+10, findingAvg['Price/Sqm'].min()-10])\n",
    "ax.set_xticks(major_ticks)                                                       \n",
    "ax.set_xticks(minor_ticks, minor=True)                                           \n",
    "ax.set_yticks(major_ticks)\n",
    "ax.grid(which='both', alpha = 0.3)                                                                                                           \n",
    "ax.grid(which='major', alpha=0.3) \n",
    "\n",
    "ax.set_xlabel('Price/Sqm', fontsize=15);\n",
    "ax.set_ylabel('Postcode', fontsize=15);\n",
    "ax.set_title('Does the price increase based on Postcode?', size = 20)\n",
    "\n",
    "cbar = plt.colorbar(mappable = s,ax = ax)\n",
    "\n",
    "plt.show()"
   ]
  },
  {
   "cell_type": "code",
   "execution_count": null,
   "id": "393710ac",
   "metadata": {},
   "outputs": [],
   "source": []
  }
 ],
 "metadata": {
  "kernelspec": {
   "display_name": "Python 3",
   "language": "python",
   "name": "python3"
  },
  "language_info": {
   "codemirror_mode": {
    "name": "ipython",
    "version": 3
   },
   "file_extension": ".py",
   "mimetype": "text/x-python",
   "name": "python",
   "nbconvert_exporter": "python",
   "pygments_lexer": "ipython3",
   "version": "3.8.10"
  }
 },
 "nbformat": 4,
 "nbformat_minor": 5
}
